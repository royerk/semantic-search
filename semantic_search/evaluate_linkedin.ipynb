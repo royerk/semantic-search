{
 "cells": [
  {
   "cell_type": "code",
   "execution_count": 2,
   "metadata": {},
   "outputs": [],
   "source": [
    "# https://www.kaggle.com/datasets/arshkon/linkedin-job-postings"
   ]
  },
  {
   "cell_type": "code",
   "execution_count": 1,
   "metadata": {},
   "outputs": [],
   "source": [
    "import pandas as pd\n",
    "from sentence_transformers import SentenceTransformer, util\n",
    "from annoy import AnnoyIndex\n",
    "from tqdm import tqdm\n",
    "import unidecode"
   ]
  },
  {
   "cell_type": "code",
   "execution_count": 3,
   "metadata": {},
   "outputs": [
    {
     "name": "stderr",
     "output_type": "stream",
     "text": [
      "/home/kevin/.cache/pypoetry/virtualenvs/semantic-search-8qQzEiS--py3.10/lib/python3.10/site-packages/torch/cuda/__init__.py:107: UserWarning: CUDA initialization: CUDA unknown error - this may be due to an incorrectly set up environment, e.g. changing env variable CUDA_VISIBLE_DEVICES after program start. Setting the available devices to be zero. (Triggered internally at ../c10/cuda/CUDAFunctions.cpp:109.)\n",
      "  return torch._C._cuda_getDeviceCount() > 0\n"
     ]
    }
   ],
   "source": [
    "model = SentenceTransformer('sentence-transformers/msmarco-distilbert-base-tas-b')\n",
    "\n",
    "sentence = 'This is a sample sentence'\n",
    "encoding = model.encode(sentence)\n",
    "print(encoding.shape)"
   ]
  },
  {
   "cell_type": "code",
   "execution_count": 4,
   "metadata": {},
   "outputs": [],
   "source": [
    "df = pd.read_csv(\n",
    "    'data/linkedin/company_details/companies.csv'\n",
    ")"
   ]
  },
  {
   "cell_type": "code",
   "execution_count": 5,
   "metadata": {},
   "outputs": [],
   "source": [
    "df.set_index('company_id', inplace=True)"
   ]
  },
  {
   "cell_type": "code",
   "execution_count": 6,
   "metadata": {},
   "outputs": [
    {
     "data": {
      "text/plain": [
       "(5999, 9)"
      ]
     },
     "execution_count": 6,
     "metadata": {},
     "output_type": "execute_result"
    }
   ],
   "source": [
    "df = df.dropna(subset=['description', 'name'])\n",
    "df.shape"
   ]
  },
  {
   "cell_type": "code",
   "execution_count": 7,
   "metadata": {},
   "outputs": [
    {
     "data": {
      "text/html": [
       "<div>\n",
       "<style scoped>\n",
       "    .dataframe tbody tr th:only-of-type {\n",
       "        vertical-align: middle;\n",
       "    }\n",
       "\n",
       "    .dataframe tbody tr th {\n",
       "        vertical-align: top;\n",
       "    }\n",
       "\n",
       "    .dataframe thead th {\n",
       "        text-align: right;\n",
       "    }\n",
       "</style>\n",
       "<table border=\"1\" class=\"dataframe\">\n",
       "  <thead>\n",
       "    <tr style=\"text-align: right;\">\n",
       "      <th></th>\n",
       "      <th>name</th>\n",
       "      <th>description</th>\n",
       "      <th>company_size</th>\n",
       "      <th>state</th>\n",
       "      <th>country</th>\n",
       "      <th>city</th>\n",
       "      <th>zip_code</th>\n",
       "      <th>address</th>\n",
       "      <th>url</th>\n",
       "    </tr>\n",
       "    <tr>\n",
       "      <th>company_id</th>\n",
       "      <th></th>\n",
       "      <th></th>\n",
       "      <th></th>\n",
       "      <th></th>\n",
       "      <th></th>\n",
       "      <th></th>\n",
       "      <th></th>\n",
       "      <th></th>\n",
       "      <th></th>\n",
       "    </tr>\n",
       "  </thead>\n",
       "  <tbody>\n",
       "    <tr>\n",
       "      <th>82120874</th>\n",
       "      <td>Aarna Software and Solutions LLC</td>\n",
       "      <td>Prospering in the industry for more than 10 ye...</td>\n",
       "      <td>2.0</td>\n",
       "      <td>WY</td>\n",
       "      <td>US</td>\n",
       "      <td>SHERIDAN</td>\n",
       "      <td>82801</td>\n",
       "      <td>30 N GOULD ST</td>\n",
       "      <td>https://www.linkedin.com/company/asasusagroup</td>\n",
       "    </tr>\n",
       "    <tr>\n",
       "      <th>1768090</th>\n",
       "      <td>Perry Homes</td>\n",
       "      <td>A luxury homebuilder founded in 1967, Perry Ho...</td>\n",
       "      <td>5.0</td>\n",
       "      <td>TX</td>\n",
       "      <td>US</td>\n",
       "      <td>Houston</td>\n",
       "      <td>77017</td>\n",
       "      <td>Gulf Fwy.</td>\n",
       "      <td>https://www.linkedin.com/company/perry-homes</td>\n",
       "    </tr>\n",
       "    <tr>\n",
       "      <th>2472062</th>\n",
       "      <td>Modern Family Law</td>\n",
       "      <td>Modern Family Law is a national family law fir...</td>\n",
       "      <td>2.0</td>\n",
       "      <td>CO</td>\n",
       "      <td>US</td>\n",
       "      <td>Denver</td>\n",
       "      <td>80246</td>\n",
       "      <td>4500 Cherry Creek South Drive</td>\n",
       "      <td>https://www.linkedin.com/company/modern-family...</td>\n",
       "    </tr>\n",
       "  </tbody>\n",
       "</table>\n",
       "</div>"
      ],
      "text/plain": [
       "                                        name  \\\n",
       "company_id                                     \n",
       "82120874    Aarna Software and Solutions LLC   \n",
       "1768090                          Perry Homes   \n",
       "2472062                    Modern Family Law   \n",
       "\n",
       "                                                  description  company_size  \\\n",
       "company_id                                                                    \n",
       "82120874    Prospering in the industry for more than 10 ye...           2.0   \n",
       "1768090     A luxury homebuilder founded in 1967, Perry Ho...           5.0   \n",
       "2472062     Modern Family Law is a national family law fir...           2.0   \n",
       "\n",
       "           state country       city zip_code                        address  \\\n",
       "company_id                                                                    \n",
       "82120874     WY       US  SHERIDAN     82801                 30 N GOULD ST    \n",
       "1768090       TX      US    Houston    77017                      Gulf Fwy.   \n",
       "2472062       CO      US     Denver    80246  4500 Cherry Creek South Drive   \n",
       "\n",
       "                                                          url  \n",
       "company_id                                                     \n",
       "82120874        https://www.linkedin.com/company/asasusagroup  \n",
       "1768090          https://www.linkedin.com/company/perry-homes  \n",
       "2472062     https://www.linkedin.com/company/modern-family...  "
      ]
     },
     "execution_count": 7,
     "metadata": {},
     "output_type": "execute_result"
    }
   ],
   "source": [
    "df.sample(3)"
   ]
  },
  {
   "cell_type": "code",
   "execution_count": 8,
   "metadata": {},
   "outputs": [],
   "source": [
    "df['description'] = df['description'].apply(lambda x: unidecode.unidecode(x.lower()))"
   ]
  },
  {
   "cell_type": "code",
   "execution_count": 10,
   "metadata": {},
   "outputs": [
    {
     "data": {
      "application/vnd.jupyter.widget-view+json": {
       "model_id": "95302cc5f66146728d05a005c3d5a381",
       "version_major": 2,
       "version_minor": 0
      },
      "text/plain": [
       "Batches:   0%|          | 0/188 [00:00<?, ?it/s]"
      ]
     },
     "metadata": {},
     "output_type": "display_data"
    }
   ],
   "source": [
    "encoded_descriptions = model.encode(df['description'].tolist(), show_progress_bar=True)"
   ]
  },
  {
   "cell_type": "code",
   "execution_count": 11,
   "metadata": {},
   "outputs": [],
   "source": [
    "df['encoded_description'] = encoded_descriptions.tolist()"
   ]
  },
  {
   "cell_type": "code",
   "execution_count": 12,
   "metadata": {},
   "outputs": [],
   "source": [
    "df.to_csv(\n",
    "    'data/linkedin/company_details/companies_encoded.csv',\n",
    ")"
   ]
  },
  {
   "cell_type": "code",
   "execution_count": 9,
   "metadata": {},
   "outputs": [],
   "source": [
    "df = pd.read_csv(\n",
    "    'data/linkedin/company_details/companies_encoded.csv'\n",
    ")\n",
    "df['encoded_description'] = df['encoded_description'].apply(\n",
    "    lambda x: [float(v) for v in x[1:-1].split(',')]\n",
    ")"
   ]
  },
  {
   "cell_type": "code",
   "execution_count": 10,
   "metadata": {},
   "outputs": [
    {
     "data": {
      "text/html": [
       "<div>\n",
       "<style scoped>\n",
       "    .dataframe tbody tr th:only-of-type {\n",
       "        vertical-align: middle;\n",
       "    }\n",
       "\n",
       "    .dataframe tbody tr th {\n",
       "        vertical-align: top;\n",
       "    }\n",
       "\n",
       "    .dataframe thead th {\n",
       "        text-align: right;\n",
       "    }\n",
       "</style>\n",
       "<table border=\"1\" class=\"dataframe\">\n",
       "  <thead>\n",
       "    <tr style=\"text-align: right;\">\n",
       "      <th></th>\n",
       "      <th>company_id</th>\n",
       "      <th>name</th>\n",
       "      <th>description</th>\n",
       "      <th>company_size</th>\n",
       "      <th>state</th>\n",
       "      <th>country</th>\n",
       "      <th>city</th>\n",
       "      <th>zip_code</th>\n",
       "      <th>address</th>\n",
       "      <th>url</th>\n",
       "      <th>encoded_description</th>\n",
       "    </tr>\n",
       "  </thead>\n",
       "  <tbody>\n",
       "    <tr>\n",
       "      <th>4550</th>\n",
       "      <td>18438915</td>\n",
       "      <td>Pacific Inventory Consultants LLC</td>\n",
       "      <td>our company provides consulting, buy/sell and ...</td>\n",
       "      <td>2.0</td>\n",
       "      <td>WA</td>\n",
       "      <td>US</td>\n",
       "      <td>Manchester</td>\n",
       "      <td>98353</td>\n",
       "      <td>PO Box 546</td>\n",
       "      <td>https://www.linkedin.com/company/pacific-inven...</td>\n",
       "      <td>[-0.05795583873987198, 0.5794211030006409, -0....</td>\n",
       "    </tr>\n",
       "    <tr>\n",
       "      <th>4063</th>\n",
       "      <td>10462531</td>\n",
       "      <td>Thor Companies</td>\n",
       "      <td>thor companies(r) is a specialist recruitment ...</td>\n",
       "      <td>2.0</td>\n",
       "      <td>England</td>\n",
       "      <td>GB</td>\n",
       "      <td>London</td>\n",
       "      <td>SW8 1RL</td>\n",
       "      <td>68-70 South Lambeth Road</td>\n",
       "      <td>https://www.linkedin.com/company/thor-companie...</td>\n",
       "      <td>[0.19136837124824524, 0.17068326473236084, 0.1...</td>\n",
       "    </tr>\n",
       "    <tr>\n",
       "      <th>5492</th>\n",
       "      <td>77767313</td>\n",
       "      <td>Challenge Center Neuro Rehab and Wellness</td>\n",
       "      <td>challenge center is an exceptional not-for-pro...</td>\n",
       "      <td>1.0</td>\n",
       "      <td>California</td>\n",
       "      <td>US</td>\n",
       "      <td>La Mesa</td>\n",
       "      <td>91942</td>\n",
       "      <td>5540 Lake Park Way</td>\n",
       "      <td>https://www.linkedin.com/company/challenge-cen...</td>\n",
       "      <td>[-0.3120168447494507, -0.3369400203227997, 0.2...</td>\n",
       "    </tr>\n",
       "  </tbody>\n",
       "</table>\n",
       "</div>"
      ],
      "text/plain": [
       "      company_id                                       name  \\\n",
       "4550    18438915          Pacific Inventory Consultants LLC   \n",
       "4063    10462531                             Thor Companies   \n",
       "5492    77767313  Challenge Center Neuro Rehab and Wellness   \n",
       "\n",
       "                                            description  company_size  \\\n",
       "4550  our company provides consulting, buy/sell and ...           2.0   \n",
       "4063  thor companies(r) is a specialist recruitment ...           2.0   \n",
       "5492  challenge center is an exceptional not-for-pro...           1.0   \n",
       "\n",
       "           state country        city zip_code                   address  \\\n",
       "4550          WA      US  Manchester    98353                PO Box 546   \n",
       "4063     England      GB      London  SW8 1RL  68-70 South Lambeth Road   \n",
       "5492  California      US     La Mesa    91942        5540 Lake Park Way   \n",
       "\n",
       "                                                    url  \\\n",
       "4550  https://www.linkedin.com/company/pacific-inven...   \n",
       "4063  https://www.linkedin.com/company/thor-companie...   \n",
       "5492  https://www.linkedin.com/company/challenge-cen...   \n",
       "\n",
       "                                    encoded_description  \n",
       "4550  [-0.05795583873987198, 0.5794211030006409, -0....  \n",
       "4063  [0.19136837124824524, 0.17068326473236084, 0.1...  \n",
       "5492  [-0.3120168447494507, -0.3369400203227997, 0.2...  "
      ]
     },
     "execution_count": 10,
     "metadata": {},
     "output_type": "execute_result"
    }
   ],
   "source": [
    "df.sample(3)"
   ]
  },
  {
   "cell_type": "code",
   "execution_count": 11,
   "metadata": {},
   "outputs": [
    {
     "name": "stderr",
     "output_type": "stream",
     "text": [
      "5999it [00:00, 15475.67it/s]\n"
     ]
    },
    {
     "data": {
      "text/plain": [
       "True"
      ]
     },
     "execution_count": 11,
     "metadata": {},
     "output_type": "execute_result"
    }
   ],
   "source": [
    "encoding_size = encoding.shape[0]\n",
    "\n",
    "t = AnnoyIndex(encoding_size, 'angular')  # Length of item vector that will be indexed\n",
    "name_map = {}\n",
    "\n",
    "for i, company_idx in tqdm(enumerate(df.index)):\n",
    "    t.add_item(i, df.loc[company_idx]['encoded_description'])\n",
    "    name_map[i] = company_idx\n",
    "\n",
    "t.build(25) # 10 trees\n",
    "t.save('linkedin_company.ann')"
   ]
  },
  {
   "cell_type": "code",
   "execution_count": null,
   "metadata": {},
   "outputs": [],
   "source": [
    "t = AnnoyIndex(encoding_size, 'angular')\n",
    "t.load('linkedin_company.ann')"
   ]
  },
  {
   "cell_type": "code",
   "execution_count": 16,
   "metadata": {},
   "outputs": [
    {
     "name": "stdout",
     "output_type": "stream",
     "text": [
      "Non-Profit Organization our mission is to help local and national non-profit organizations by assisting them restructure programs, events, sponsorships, grants, board of director infrastructure, bylaws creation, mission statements and more. \n",
      "FabFitFun founded in 2010 by co-ceos daniel and michael broukhim and editor-in-chief katie echevarria rosen kitchens, fabfitfun is a lifestyle membership and shopping experience whose mission is to deliver happiness and wellbeing to everyone, everywhere. its flagship product, the fabfitfun box, delivers a curated collection of full-size products across beauty, fashion, fitness, wellness, home, and tech - each season. in addition to the box, fabfitfun members receive access to year-round perks including the fabfitfun online community, members-only shopping experiences, exclusive digital content, and more. join fabfitfun by visiting fabfitfun.com.\n",
      "A Free Bird™ a free bird(tm) is a non-profit arts organization based in ny. a free bird(tm)mission is to empower children effected by cancer to discover their inner artist. we  are dedicated to helping young people, ages 4-18, affected by cancer, fight their disease through the therapeutic benefits of the arts. we provide arts education resources to hospitals and pediatric cancer patients to help them express their ideas and develop their passions while facing treatment. we have resources in all art forms and make them available to kids, their parents, and hospitals, thanks to the help of our collaborative partners, including museums, dance companies, musicians, theatre companies and more! we work closely with our partners to give children hope for their future. \n",
      "through our three core programs: dream big, take flight, and fly free, we are jumpstarting and nourishing the careers of our young artists. a free bird(tm) is always looking for enthusiastic individuals who are interested in the arts, therapy, and helping children to make a difference.\n",
      "Zwift we are the fitness company born from gaming. and we're on a mission to make more people, more active, more often. \n",
      "PickleRoll our mission at pickleroll is to cultivate an inclusive community of pickleball enthusiasts by providing accessible, mobile court solutions. as a usa-based small business, we aim to nurture a culture of unity and sportsmanship, contributing to the development of local communities while promoting health, wellness, and the love of the game. we stand committed to delivering unparalleled customer service and superior products, breaking boundaries, and ensuring every individual has the opportunity to engage in the pickleball experience, anywhere, anytime. \n",
      "Greater Kirkland Chamber of Commerce the greater kirkland chamber of commerce is an independent, non-profit organization of businesses and individual members working together for the betterment of business, community and lifestyle. we offer networking opportunities, business advice and assistance, public policy advocacy and more.  expand your business, get involved and have some fun!\n",
      "Rocky Mountain Elk Foundation rmef is a wildlife conservation organization with a mission of ensuring the future of elk, other wildlife, their habitat and our hunting heritage. founded in 1984 with an international headquarters in montana, it advances its mission with a programmatic focus on land conservation and access, habitat stewardship, wildlife management and advocacy on behalf of elk, conservation and hunting.  \n",
      "Flywheel Publishing we own and operate:\n",
      "\n",
      "https://a-z-animals.com/\n",
      "https://history-computer.com/\n",
      "https://www.cheatcc.com/\n",
      "https://www.momswhothink.com/\n",
      "\n",
      "\n",
      "OpenPark our mission is to enhance well-being for people & pets through expert resources, educational content, and innovative platform technologies. \n",
      "\n",
      "we promote collaboration, knowledge exchange, and community engagement to empower pet owners and professionals, while prioritizing the needs of our beloved pets.\n",
      "Kounkuey Design Initiative kdi is a non-profit design and community development organization. we partner with under-resourced communities to advance equity and activate the unrealized potential in neighborhoods and cities. we accomplish this mission through advocacy, research, planning, and built works.\n"
     ]
    }
   ],
   "source": [
    "query = 'non profit bee keeper'\n",
    "fetch_n = 10\n",
    "\n",
    "encoding = model.encode(query)\n",
    "\n",
    "results = t.get_nns_by_vector(encoding, fetch_n, search_k=-1, include_distances=False)\n",
    "\n",
    "for result in results:\n",
    "    company = df.loc[result]\n",
    "    print(company['name'], company['description'])"
   ]
  },
  {
   "cell_type": "code",
   "execution_count": 23,
   "metadata": {},
   "outputs": [
    {
     "name": "stdout",
     "output_type": "stream",
     "text": [
      "Medline Industries, LP US 7.0\n",
      "medline is a healthcare company-a manufacturer, distributor and so much more, doing business in more than 125 countries and territories around the world. we provide the quality medical products and solutions our customers need to deliver their best care to every person in every care setting. together, we free up the clinical and supply chain resources required to improve the overall operating performance of healthcare.\n",
      "\n",
      "in a complex healthcare world, medline strives to help our customers achieve both clinical and financial success. we do that through a personalized approach to listen and better understand our customers' needs in an environment that tirelessly demands lower costs and better outcomes. \n",
      "\n",
      "our responsiveness and commitment to making healthcare run better is evident in our actions every day. this is who we are. this is why customers choose us as their trusted, integrated business partner.\n",
      "---\n",
      "K Health US 3.0\n",
      "we're the clinical primary care company on a mission to get everyone access to high-quality healthcare--at scale. named to the 2022 fast company world's most innovative companies list, k health is an app and web platform that uses ai to combine professional medical knowledge with patient clinical data, empowering doctors and users with information about the diagnoses and treatments of others with similar symptoms and conditions. k health also offers, through affiliated professional entities, the option for text-based care from clinicians practicing on its platform for less than a copay, no insurance needed. k health treats hundreds of urgent and chronic conditions, as well as anxiety and depression, and offers remote wellness visits, custom treatment plans, weight loss management, and mail-order prescriptions.\n",
      "\n",
      "---\n",
      "Envision Physician Services US 7.0\n",
      "envision physician services is a multispecialty provider group and healthcare management team providing anesthesia, emergency medicine, hospital medicine, radiology, surgical services, and women's and children's health services. our collective experience enables us to better solve complex problems and consistently give healthcare organizations confidence in our execution. envision physician services serves more than 900 healthcare facilities in 48 states and employs or contracts with more than 25,200 physicians and other healthcare professionals.\n",
      "\n",
      "community guidelines: http://bit.ly/2tuonk3 \n",
      "---\n"
     ]
    }
   ],
   "source": [
    "query = 'A small digital healthcare company.'\n",
    "fetch_n = 3\n",
    "\n",
    "encoding = model.encode(query)\n",
    "\n",
    "results = t.get_nns_by_vector(encoding, fetch_n, search_k=-1, include_distances=False)\n",
    "\n",
    "for result in results:\n",
    "    company = df.loc[result]\n",
    "    print(company['name'], company['country'], company['company_size'], )\n",
    "    print(company['description'])\n",
    "    print('---')"
   ]
  },
  {
   "cell_type": "code",
   "execution_count": 27,
   "metadata": {},
   "outputs": [
    {
     "name": "stdout",
     "output_type": "stream",
     "text": [
      "Guthrie US 6.0\n",
      "health care\n",
      "---\n",
      "WebTPA US 4.0\n",
      "your employees. your healthcare. your way.\n",
      "---\n",
      "HCA Healthcare US 7.0\n",
      "at hca healthcare, we are driven by a single mission:  above all else, we are committed to the care and improvement of human life.\n",
      "\n",
      "at hca healthcare we recognize the significant responsibility we have as a leading healthcare provider within each of the communities we serve, as well as the opportunity we have to improve the lives of the patients for whom we are entrusted to care. through the compassion, knowledge and skill of our caregivers and our unique ability to leverage our scale and innovation, hca healthcare is a learning health system that uses our approximately 37 million annual patient encounters to advance science, improve patient care and save lives.\n",
      "\n",
      "hca healthcare is one of the nation's leading providers of healthcare services, comprising 180 hospitals and approximately more than 2,300 sites of care, including surgery centers, freestanding ers, urgent care centers, and physician clinics, in 20 states and the united kingdom. with more than 294,000 colleagues driven by one purpose--to give patients healthier tomorrows--we are excited about the future of medicine and believe we are uniquely positioned to play a leading role in the transformation of clinical care.\n",
      "\n",
      "note:  be alert for fraudulent job postings, emails, and phone calls. hca healthcare will never send you money or ask you to send money during the interview or hiring process.\n",
      "---\n"
     ]
    }
   ],
   "source": [
    "query = 'Healthcare services.'\n",
    "fetch_n = 3\n",
    "\n",
    "encoding = model.encode(query)\n",
    "\n",
    "results = t.get_nns_by_vector(encoding, fetch_n, search_k=-1, include_distances=False)\n",
    "\n",
    "for result in results:\n",
    "    company = df.loc[result]\n",
    "    print(company['name'], company['country'], company['company_size'], )\n",
    "    print(company['description'])\n",
    "    print('---')"
   ]
  },
  {
   "cell_type": "code",
   "execution_count": null,
   "metadata": {},
   "outputs": [],
   "source": []
  }
 ],
 "metadata": {
  "kernelspec": {
   "display_name": "semantic-search-8qQzEiS--py3.10",
   "language": "python",
   "name": "python3"
  },
  "language_info": {
   "codemirror_mode": {
    "name": "ipython",
    "version": 3
   },
   "file_extension": ".py",
   "mimetype": "text/x-python",
   "name": "python",
   "nbconvert_exporter": "python",
   "pygments_lexer": "ipython3",
   "version": "3.10.12"
  }
 },
 "nbformat": 4,
 "nbformat_minor": 2
}
