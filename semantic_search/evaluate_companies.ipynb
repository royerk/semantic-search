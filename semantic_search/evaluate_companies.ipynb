{
 "cells": [
  {
   "cell_type": "code",
   "execution_count": 19,
   "metadata": {},
   "outputs": [],
   "source": [
    "import pandas as pd\n",
    "from sentence_transformers import SentenceTransformer, util\n",
    "from annoy import AnnoyIndex\n",
    "from tqdm import tqdm\n",
    "import unidecode"
   ]
  },
  {
   "cell_type": "markdown",
   "metadata": {},
   "source": [
    "## Load model"
   ]
  },
  {
   "cell_type": "code",
   "execution_count": 8,
   "metadata": {},
   "outputs": [
    {
     "name": "stderr",
     "output_type": "stream",
     "text": [
      "/home/kevin/.cache/pypoetry/virtualenvs/semantic-search-8qQzEiS--py3.10/lib/python3.10/site-packages/torch/cuda/__init__.py:107: UserWarning: CUDA initialization: CUDA unknown error - this may be due to an incorrectly set up environment, e.g. changing env variable CUDA_VISIBLE_DEVICES after program start. Setting the available devices to be zero. (Triggered internally at ../c10/cuda/CUDAFunctions.cpp:109.)\n",
      "  return torch._C._cuda_getDeviceCount() > 0\n"
     ]
    }
   ],
   "source": [
    "model = SentenceTransformer('sentence-transformers/msmarco-distilbert-base-tas-b')"
   ]
  },
  {
   "cell_type": "markdown",
   "metadata": {},
   "source": [
    "## Load data"
   ]
  },
  {
   "cell_type": "code",
   "execution_count": 21,
   "metadata": {},
   "outputs": [
    {
     "data": {
      "text/plain": [
       "(73974, 10)"
      ]
     },
     "execution_count": 21,
     "metadata": {},
     "output_type": "execute_result"
    }
   ],
   "source": [
    "df = pd.read_csv('data/classification-dataset-v1.csv.zip')\n",
    "df.shape"
   ]
  },
  {
   "cell_type": "code",
   "execution_count": 22,
   "metadata": {},
   "outputs": [
    {
     "data": {
      "text/plain": [
       "(73305, 10)"
      ]
     },
     "execution_count": 22,
     "metadata": {},
     "output_type": "execute_result"
    }
   ],
   "source": [
    "df = df.dropna(subset=['company_name', 'homepage_text'])\n",
    "df.shape"
   ]
  },
  {
   "cell_type": "code",
   "execution_count": 23,
   "metadata": {},
   "outputs": [],
   "source": [
    "df['homepage_text'] = df['homepage_text'].apply(\n",
    "    lambda x: unidecode.unidecode(str(x).lower())\n",
    ")"
   ]
  },
  {
   "cell_type": "code",
   "execution_count": 24,
   "metadata": {},
   "outputs": [
    {
     "data": {
      "text/html": [
       "<div>\n",
       "<style scoped>\n",
       "    .dataframe tbody tr th:only-of-type {\n",
       "        vertical-align: middle;\n",
       "    }\n",
       "\n",
       "    .dataframe tbody tr th {\n",
       "        vertical-align: top;\n",
       "    }\n",
       "\n",
       "    .dataframe thead th {\n",
       "        text-align: right;\n",
       "    }\n",
       "</style>\n",
       "<table border=\"1\" class=\"dataframe\">\n",
       "  <thead>\n",
       "    <tr style=\"text-align: right;\">\n",
       "      <th></th>\n",
       "      <th>company_name</th>\n",
       "      <th>homepage_text</th>\n",
       "    </tr>\n",
       "  </thead>\n",
       "  <tbody>\n",
       "    <tr>\n",
       "      <th>62189</th>\n",
       "      <td>crisp malting group</td>\n",
       "      <td>telephone +44 (0)1328 829 391 email info@crisp...</td>\n",
       "    </tr>\n",
       "    <tr>\n",
       "      <th>37479</th>\n",
       "      <td>livewell properties, llc</td>\n",
       "      <td>about  development  news  ...</td>\n",
       "    </tr>\n",
       "    <tr>\n",
       "      <th>64616</th>\n",
       "      <td>gripper logistics llc | dba gripper group</td>\n",
       "      <td>envio g...</td>\n",
       "    </tr>\n",
       "  </tbody>\n",
       "</table>\n",
       "</div>"
      ],
      "text/plain": [
       "                                    company_name  \\\n",
       "62189                        crisp malting group   \n",
       "37479                   livewell properties, llc   \n",
       "64616  gripper logistics llc | dba gripper group   \n",
       "\n",
       "                                           homepage_text  \n",
       "62189  telephone +44 (0)1328 829 391 email info@crisp...  \n",
       "37479                      about  development  news  ...  \n",
       "64616                                         envio g...  "
      ]
     },
     "execution_count": 24,
     "metadata": {},
     "output_type": "execute_result"
    }
   ],
   "source": [
    "df.sample(3)[['company_name', 'homepage_text']]"
   ]
  },
  {
   "cell_type": "markdown",
   "metadata": {},
   "source": [
    "## Create embeddings"
   ]
  },
  {
   "cell_type": "code",
   "execution_count": 25,
   "metadata": {},
   "outputs": [
    {
     "name": "stdout",
     "output_type": "stream",
     "text": [
      "(768,)\n"
     ]
    }
   ],
   "source": [
    "sentence = 'This is a sample sentence'\n",
    "encoding = model.encode(sentence)\n",
    "print(encoding.shape)"
   ]
  },
  {
   "cell_type": "code",
   "execution_count": 26,
   "metadata": {},
   "outputs": [
    {
     "name": "stderr",
     "output_type": "stream",
     "text": [
      "0it [00:00, ?it/s]"
     ]
    },
    {
     "name": "stderr",
     "output_type": "stream",
     "text": [
      "73305it [2:02:40,  9.96it/s]\n"
     ]
    }
   ],
   "source": [
    "encoding_size = encoding.shape[0]\n",
    "\n",
    "t = AnnoyIndex(encoding_size, 'angular')  # Length of item vector that will be indexed\n",
    "name_map = {}\n",
    "\n",
    "for i, row in tqdm(df.iterrows()):\n",
    "    try:\n",
    "        t.add_item(i, model.encode(row['homepage_text']))\n",
    "        name_map[i] = row['company_name']\n",
    "    except e:\n",
    "        print(f'Error: {e}')\n",
    "        continue"
   ]
  },
  {
   "cell_type": "code",
   "execution_count": 27,
   "metadata": {},
   "outputs": [
    {
     "data": {
      "text/plain": [
       "True"
      ]
     },
     "execution_count": 27,
     "metadata": {},
     "output_type": "execute_result"
    }
   ],
   "source": [
    "t.build(25) # 10 trees\n",
    "t.save('company.ann')"
   ]
  },
  {
   "cell_type": "code",
   "execution_count": null,
   "metadata": {},
   "outputs": [],
   "source": [
    "t = AnnoyIndex(encoding_size, 'angular')\n",
    "t.load('company.ann')"
   ]
  },
  {
   "cell_type": "code",
   "execution_count": 30,
   "metadata": {},
   "outputs": [
    {
     "name": "stdout",
     "output_type": "stream",
     "text": [
      "us best medical       contact mail:  info@usbestmedical.com    home about us solutions contact                 us best medical   more info    welcome to         us best medical   more info    welcome to         medical tourism we're connecting patients with the best medical care and treatments in us healthcare system. learn more medical talent acquisition we're supporting international healthcare systems recruit the best talent in the us. learn more us best medical products we're helping international healthcare facilities acquire the best us medical products & solutions. learn more healthcare consulting services we're delivering the optimization of healthcare system patient flow, clinical outcomes, and patient satisfaction.. learn more innovative technology solutions we're delivering the best innovative technology solutions to improving profitability and satisfaction. learn more global agency network we're helping manufacturers expand their global footprint. contact us stay in touch with us on linkedin connect        us best medical \"bridging the gap between quality of care and the cost\"  (c) 2018 us best medical. all rights reserved | info@usbestmedical.com     off canvas menu  home about us solutions contact      \n",
      "alm healthcare services       menu         call us  home  about us  services  careers   apply online    resources                    alm healthcare services, llc  alm healthcare services is dedicated to placing care managers with members who need assistance with their healthcare management.  learn more      about us  we are invested in helping individuals remain at home when faced with medical and functional challenges. advocating for high quality, affordable care -- primarily for older and disabled populations -- contributes to the valuable services provided to individuals identified as most \"at risk.\"  learn more      services  provide care management to the elderly, chronically ill, and functionally challenged; identify risks, gaps in care, and prevent unnecessary hospitalizations and emergency room visits.  learn more      careers  looking for a position where you control your schedule and territory? come join our team...  learn more      resources  is in-home care right for you or a loved one?  explore resources             alm healthcare services is a local company that assists individuals with minor to critical care health issues in their homes to limit hospital and emergency room visits. our staff members are licensed, trained health care managers (lvn, lpn, or rn) with extensive experience in home care management that allows the elderly to remain in the comfort of their homes while receiving proper medical attention. critical care patients require assistance with maintaining their health. we have working relationships with many insurance companies and health care companies that offer independent living medical assistance.  our staff will work with primary care physicians and care givers to ensure the best care plan is followed. they are there to provide assessments and advise on resources to improve the members' quality of living. the care managers are responsible for making contact with members and visit them within 24 hours of assignment. our staff have flexible schedules with an opportunity for part-time or full-time hours.  service areas     connect with us        send us a message  name*  email*  subject*  message* (1000 characters max)      * required fields    employee login               home       about us      services      careers  apply online      resources           copyright (c) 2016 alm healthcare services, llc * all rights reserved.       connect with us           \n",
      "modern diagnostic & research centre              services  physicians  hospitals/providers  insurers  patients  about us       modern diagnostics the leading provider of professional neurodiagnostic and intraoperative neurophysiological monitoring. quality service you can count on.       about us     our services       physicians     hospitals/providers     insurers     patients     (c) copyright 2009 modern diagnostics. all rights reserved. privacy policy | contact us        \n",
      "truthpoint media      truthpointmedia.com           best healthcare providers  health care benefits  top health care companies  best healthcare programs  point of care software  health care problems  flying point media     related links:  best healthcare providers  health care benefits  top health care companies       \n",
      "care plus medical services               home   services  satisfaction survey  careers   contact us                care plus medical services    care plus medical services prides itself as not only a punctual and reliable transport company, \n",
      "\tbut also one that actually cares about the patient. we have a strict quality assurance program \n",
      "\tin which management follows up with patients, their families and facilities that we work with to \n",
      "\ttake a survey on the overall experience. our quality assurance program ensures patient care \n",
      "\tand punctuality is at its highest level, thus separating us from other companies. we are fully insured and approved by new jersey department of health and senior services\n",
      "\tto provide non-emergency medical transportation. we are medicare/medicaid \n",
      "\tapproved and also a highly reliable provider in the logisticare network.         there's only one way to experience the difference, and that's by actually trying. we here at \n",
      "\tcare plus look forward to serving your every need and wish to hear from you at your earliest \n",
      "\tconvenience.       contact us    email: info@careplusbls.com  visit us on facebook                copyright (c) 2020  care plus medical services, all rights reserved. privacy and compliance notice      \n",
      "synergy healthcare services, llc           synergy healthcare services, llc          \"an even greater threat to an organization, than changing conditions outside, is complacency inside.\"          home mission & values mission / values management team services clients references principals contact us               get the flash player to see this player.                  welcome    synergy healthcare services is a full service management company focused exclusively on long term care providers. synergy specializes in turning-around poorly performing nursing homes, assisted living facilities, and retirement homes.  synergy knows how to successfully manage change in complacent organizations and in those negatively impacted by outside forces such as changes in reimbursement and regulations.  synergy has a team of professionals experienced in every aspect and nuance of the long term care industry. they are capable of inserting themselves into daily operations to make every department more effective and efficient; thereby, creating positive lasting results for the organization.                 facility spotlight   abbiejean russell center guardian care nursing           recent articles     why is it so important for a nursing home owner or board of directors to have an alert and prepared management team at the helm of their organization?    an even greater threat.    synergistic approach to navigating change.                 copyright (c) 2020 www.synergyhealthcare.us. all rights reserved.         \n",
      "healthcare at home                                         patients  publicly funded health systems  pharmaceutical partners  private health systems  our events  careers  privacy  news           twitter      facebook      youtube      linkedin                          how to access our services  healthy living  treatment tracker  get in touch                                     transforming healthcare                                             healthcare at home is the uk's leading full service, clinical provider of healthcare out-of-hospital, wherever you are, at home, at work and in communities.   a new regulation is now in effect.      this will change the way that your data can be handled by us.  our privacy promise to you:   we keep your data safe and secure  we don't sell your data  you can review and update your communication preferences at any time   please click here if you would like to learn more about our privacy notice.                       watch rachel's story                     watch heather's story                     watch nick's story                         people increasingly expect choice in all things. healthcare is no different .  as a team of specialists, we're committed to enhancing people's healthcare experience by providing exceptional clinical services that allow people greater and smarter options for access to healthcare            recent news   healthcare at home achieves good cqc rating  15th january 2020   we're proud to announce our good cqc rating.  you can read our press release here: read more   2019 holiday opening hours  19th november 2019   ensuring patients receive their medication on time is always our top priority. the approaching festive season means that this requires precise planning. read more   supporting our local communities  6th september 2019   over the last year, not only have our colleagues been working together to raise funds for our corporate charity partners, but we've also established some great relationships within our communities, supporting local organisations near our offices with foodbank collections and offering a helping hand through our colleague volunteering hours. read more                      we partner with public , pharmaceutical and private providers to deliver services for patients that are essential for sustainable healthcare.                            more options to help you manage your health  we're transforming how you experience healthcare by providing better ways to help you manage your health at any time, in any place.    96     96% of people using our services would recommend healthcare at home 1                        healthcare at your convenience  with healthcare at home, you get the treatment and care you need in your home, at your work or in your local community.    24     24 hours-a-day, 7 days-a-week all-year-round support line, staffed by clinical experts, for people receiving care from healthcare at home. for care bureau contact information, please refer to your patient information booklet                      patient welcome booklet  how does it work? as a new patient at healthcare at home, we would like to take this opportunity to explain to you how our service works and the benefits is can offer.  read our latest patient welcome pack here  we take our responsibilities for your personal health information seriously. learn more here .                          access to specialists  our team of highly trained specialists work with thousands of patients, providing high quality clinical care that helps keep people out-of-hospital.                    in the most recent review by the care quality commission (cqc), patient reports included: \"we always have confidence in whoever comes because they are so professional and know what they need to do\" 2              passionate about transforming healthcare                           for over 25 years...  ...we have delivered the highest standard of clinical care, covering multiple specialities, consistently working smarter to meet your needs. we monitor and report our own performance regularly, requesting patient feedback.  read our latest patient voice report here  we take our responsibilities for your personal health information seriously. learn more here .              to get in touch  give us a call on: 0333 103 9499  (monday to friday 8am to 8pm)  (weekends & bank holidays 8am to 4:30pm)    email us at:  for general enquiries, email hahenquiries@hah.co.uk    private consultant helpline  01283 501359   when the pharmacy is closed, if you urgently need medical help or advice, but it's not a life-threatening situation, contact nhs 111, by calling 111. information can also be accessed at www.nhs.uk    send an enquiry    loading...       what are you enquiring about?  delivery of your medicines  i would like to compliment / review hah  i have a general query  i have a complaint  i would like to refer a patient  i have a query about my nurse visit  i have a medical concern / pharmacy query i would like to discuss  i would like travel advice / a customs letter request  i have a new business enquiry  i have a marketing / press / media enquiry  i have an invoice / finance enquiry  i have a recruitment enquiry   this field is required        please select  amend my delivery  arrange a delivery  confirm delivery time  reschedule a delivery   this field is required       please select  patient  nhs or private provider   this field is required       please select  pmi  nhs  self-pay   this field is required       please select  estimated time of arrival  reschedule nurse visit   this field is required       please select  cimzia  enbrel  enzyme replacement therapies  forsteo  growth hormones  hiv  haemophilia  hepatitis  herceptin  humira  kineret  mental health  methotrexate or metoject  multiple sclerosis  pulmonary hypertension  renal treatments  respiratory conditions  simponi  transplant  vitaflo   this field is required       please select  new nhs business opportunity for hah  new private consultant for hah  new pharmaceutical or ancillary equipment enquiry  any other new business query   this field is required       select a region     north     midlands     london     south    this field is required       select a region     scotland/ni     north east & yorkshire     north west & north wales     east england     london     south east     thames valley & wessex     south west & south wales    this field is required       if you feel we have not provided the level of service you would rightly expect, then our door is always open, and we would like to hear from you. we value your feedback as it allows us to improve the hah experience for yourself, and other patients. if you would like to email us your concerns, along with your name and date of birth we can look into these for you. our email address is patientadvocacy@hah.co.uk. alternatively, if you would like us to contact you, please fill in the sections below and we shall be in touch.        full name  this field is required       email address  this field is required          telephone  this field is required       dob  this field is required          postcode       hah ref         please confirm you have read our data protection policy .   you must accept the terms and conditions before sending your message                     careers  corporate responsibility statement  get in touch  legal  privacy policy  modern slavery statement  tax strategy  gender pay report  complaints policy - patients  complaints policy - nhs or private provider        twitter     facebook     youtube     linkedin      our head office:  107 station street, burton upon trent, staffordshire, de14 1sz, uk  our registered pharmacies are:  fifth avenue, centrum 100, burton-on-trent, staffordshire, de14 2ws, uk. general pharmaceutical council registration 1084907  plot 7, junction close, green lane industrial park, featherstone, pontefract, west yorkshire, wf7 6ta, uk. general pharmaceutical council registration 1092334                          (c) 2020 healthcare at home ltd. all rights reserved. registered in england and wales no.02759609. reg office: 107 station street, burton-on-trent, staffordshire, de14 1sz, uk                                                                                                           references   patient experience survey results: patient voice: we're listening, jan-may 2017. access here .  care quality commission, healthcare at home (bristol) quality report, august 2016. access here .         patients   how to access our services  treatment tracker  get in touch    publicly funded health systems   insights  get in touch    pharmaceutical partners   insights  get in touch    private health systems   insights  get in touch    our events  news   news  press releases    privacy  careers   search for jobs  work for us  our selection process  diversity & inclusion  learning & development           twitter      facebook      youtube      linkedin           healthcare at home would like to use cookies to store information on your computer, to improve our website. you may delete and block all cookies from this site, but parts of the site may not work. to find out more about the cookies we use view our policies here . to continue please close this popup.       \n",
      "carolina doctors med care      welcome! a carolina doctors med care , an internal medicinea  practicea and urgent care centera .we are trusted and well known by the community to provide dedicateda  patient care.a we also provide occupational health/w.c. injury care. ca 1 home the practice services contact us more information dedication.... service with a smile latest information update tbd delays/closings exercise a to be in the best shape and health. carolina doctors med carea internal medicine center welcome to our site and our facility   website designed at homestead design a website and list your business          \n",
      "heart medical       home  about us  our services   ambulance services  training services  event services    contact us  careers  news     skip to content           home  about us  our services   ambulance services  training services  event services    contact us  careers  news        search for:                     more info ambulance services an integrated solution for your specific requirement  training services training that helps you comply with workplace legislation  more info event services providing medical cover for your event  more info         follow us on facebook error occured while retrieving the facebook feed vision the heart vision is to support the development of community response, resilience and access to care when it's needed the most. we are \"here when you need us\". mission  the heart mission is to provide high quality treatment, care, training and service to our patients, their relatives, our students and our commissioners when they need us most.  values  the heart values are to care  c - care for ourselves and others with compassion, kindness, dignity & respect  a - awareness and openness, demonstrating a learning no blame culture  r - responsive & reliable to the needs of our patients, their relatives, our customers and each other  e - effective and safe in all we do  give patient feedback                           home  about us  our services  contact us  careers  news      (c) 2020 heart medical.                                \n",
      "healthcare pathfinder, llc        203-656-2167  info@healthcarepathfinder.com     facebook            facebook                      home  our story  what we do  pathfinder service options  why and when?  code of conduct  information  contact us      select page                                   healthcare advice, advocacy and guidance       let us take care of your healthcare, so that you can take care of yourself and the important people in your life.          healthcare pathfinder (hcp) is a professional healthcare advisory and advocacy firm, providing services to individuals, families and employees. our services include insurance coverage reviews, new coverage searches and transitions, coverage interpretation, claims management -including negotiations and appeals, and case management advice and advocacy. our mission is to provide customized, dedicated, confidential and trustworthy services to our clients. our 60+ combined years of experience in the healthcare industry allows us to guide our clients through the complex healthcare world and make their experiences more manageable and less stressful.          what we do  see what healthcare pathfinder does to review, manage, and advise on your healthcare situation and advocate on your behalf.            pathfinder service options  see the different options you can take when it comes to getting the best advice and advocacy for your healthcare and insurance coverage and needs.       our story  anne mcguire, founder and president, has 35+ years of experience in healthcare.  it all began when she was a teenager in darien, ct volunteering as an emt for the town's ambulance service. it was then she discovered a passion for helping people.                          facebook    (c) 2020 healthcare pathfinder                    \n"
     ]
    }
   ],
   "source": [
    "query = 'Healthcare services'\n",
    "fetch_n = 10\n",
    "\n",
    "encoding = model.encode(query)\n",
    "\n",
    "results = t.get_nns_by_vector(encoding, fetch_n, search_k=-1, include_distances=False)\n",
    "\n",
    "for result in results:\n",
    "    print(name_map[result], df[df['company_name'] == name_map[result]]['homepage_text'].iloc[0])"
   ]
  },
  {
   "cell_type": "code",
   "execution_count": 31,
   "metadata": {},
   "outputs": [
    {
     "name": "stdout",
     "output_type": "stream",
     "text": [
      "mullen's dairy bar                          serving up handcrafted goodness since 1932   we are now open!     eat visit cakes story partners         \n",
      "more food             home about us our markets our brands gallery news contact us more...     gallery about us our markets cake brands at cake brands we work from a brc factory, manufacturing handmade cakes and desserts available at wholesale, on the high street, in coffee shops and across food service outlets.  we pride ourselves on our new product development and innovation that offers customer's a diverse range of products. our brands  contact read more >        \n",
      "iris bakery             home about us menu order online faq contact more        iris tea & bakery 1/1 our favorite cakes iris tea & bakery offer an extraordinary selection of cakes for any special occasion. here is a couple of our editor's picks. order online like & follow visit us        \n",
      "maple leaf bakery, inc.      mapleleafbakery.com           maple leaf foods  retail bakery  bakery mini breadmaker  bakery cake boxes  organic wedding cakes  organic carrot cake recipes  organic baking ingredients     related links:  maple leaf foods  retail bakery  bakery mini breadmaker          trademark free notice  \n",
      "home made bakery ltd               contact  weddings  cupcakes  occasions  what we do  about  home       skip to content    cupcakes view our cupcake gallery wedding cakes view our gallery special occassions gallery check out our selection of cakes for special occassions prev next     home made bakery essex ltd - established in 1971     home made bakery  we are a family run business based in leigh on sea essex. established in 1971 we specialise in occasion cakes, cupcakes and we even have our very own bakery full of delicious home made products.      all occasions  this site is full of delicious ideas for every occasion. we have cakes ranging from weddings, children's birthdays to those milestones birthdays we all love to celebrate.                           copyright (c) 2020 home made bakery essex ltd\t\t\t\t | designed by it-helpdesk.co            \n",
      "aunty's homemade food             home about aunty's commercial/institutional catering gourmet home delivery contact us more... homemade flavor  with a homemade taste!          \n",
      "hurst bakery               hurst bakery  a taste of quality since 1986 home products contact copyright laws about allergy alert more custom wedding cake 1/11      (c) 2013 by hurst bakery         \n",
      "wild honey media      wild honey social media is now bespoke house     same people, same offices and same ownership...    sexy new name: go >>    \n",
      "s&s productions                                     s&s; productions        home    our programs    our services    our story       home    our programs    our services    our story        search                                                               home    our programs    our services    our story                 \n",
      "nettie's country bakery                 0 home about menu in store pickup ship netties contact more menu home about menu in store pickup ship netties contact follow us recent posts (c)2023 by bread. proudly created with wix.com  baked fresh you know the difference when you taste it.       at nettie's we make everything fresh  right in our kitchen, by hand, with real ingredients. no corners. no shortcuts.      doughnuts pies desserts browse our products visit our bakery discover fresh baked goods, enjoy a local coffee, meet up with a friends or find a quiet spot, all in a beautiful country setting. learn about nettie's cupcakes pastries cakes introducing nettie's craft brownies now shipping nationwide and showing up on store shelves near you! nettie's chocolate dipped brownie bites, beloved in the bakery, continue to grow! visit nettiescraftbrownies.com to learn more!    shop craft brownies        \n"
     ]
    }
   ],
   "source": [
    "query = 'Honey and cakes delivery'\n",
    "fetch_n = 10\n",
    "\n",
    "encoding = model.encode(query)\n",
    "\n",
    "results = t.get_nns_by_vector(encoding, fetch_n, search_k=-1, include_distances=False)\n",
    "\n",
    "for result in results:\n",
    "    print(name_map[result], df[df['company_name'] == name_map[result]]['homepage_text'].iloc[0])"
   ]
  },
  {
   "cell_type": "code",
   "execution_count": null,
   "metadata": {},
   "outputs": [],
   "source": []
  }
 ],
 "metadata": {
  "kernelspec": {
   "display_name": "semantic-search-8qQzEiS--py3.10",
   "language": "python",
   "name": "python3"
  },
  "language_info": {
   "codemirror_mode": {
    "name": "ipython",
    "version": 3
   },
   "file_extension": ".py",
   "mimetype": "text/x-python",
   "name": "python",
   "nbconvert_exporter": "python",
   "pygments_lexer": "ipython3",
   "version": "3.10.12"
  }
 },
 "nbformat": 4,
 "nbformat_minor": 2
}
